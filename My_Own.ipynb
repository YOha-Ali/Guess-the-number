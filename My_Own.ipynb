{
  "nbformat": 4,
  "nbformat_minor": 0,
  "metadata": {
    "colab": {
      "provenance": [],
      "authorship_tag": "ABX9TyPuV6DyH7vq4Ci4mzBeusTE",
      "include_colab_link": true
    },
    "kernelspec": {
      "name": "python3",
      "display_name": "Python 3"
    },
    "language_info": {
      "name": "python"
    }
  },
  "cells": [
    {
      "cell_type": "markdown",
      "metadata": {
        "id": "view-in-github",
        "colab_type": "text"
      },
      "source": [
        "<a href=\"https://colab.research.google.com/github/YOha-Ali/My-Projectsss/blob/main/My_Own.ipynb\" target=\"_parent\"><img src=\"https://colab.research.google.com/assets/colab-badge.svg\" alt=\"Open In Colab\"/></a>"
      ]
    },
    {
      "cell_type": "markdown",
      "source": [
        "# ミ💖 Assigment Of Online class. ***💖彡***"
      ],
      "metadata": {
        "id": "yLqIlKc2VDfS"
      }
    },
    {
      "cell_type": "code",
      "source": [
        "faculty = 12\n",
        "admin = 4\n",
        "students = 100\n",
        "absent = 15\n",
        "per_person_rabri = 250\n",
        "\n",
        "#                  12       4       100 = 116\n",
        "total_members = faculty + admin + students\n",
        "# print(f\"Total members in GH is {total_members}\")\n",
        "\n",
        "total_present_members = total_members - absent # = 101\n",
        "print(f\"Total present members: {total_present_members}\")\n",
        "\n",
        "total_rabri_g = total_present_members * per_person_rabri\n",
        "print(f\"Total rabri in grams: {total_rabri_g}g\")\n",
        "\n",
        "# total_rabri_in_gram = 25250\n",
        "# print(f\"Total rabri in kg: {total_rabri_in_gram // 1000}kg\")\n",
        "\n",
        "print(f\"Total rabri in kg: {total_rabri_g // 1000}kg\")\n"
      ],
      "metadata": {
        "colab": {
          "base_uri": "https://localhost:8080/"
        },
        "id": "mhf_4n9OVdwd",
        "outputId": "18cda374-5a0b-41d3-88b5-76f67f6c7e7e"
      },
      "execution_count": 23,
      "outputs": [
        {
          "output_type": "stream",
          "name": "stdout",
          "text": [
            "Total present members: 101\n",
            "Total rabri in grams: 25250g\n",
            "Total rabri in kg: 25kg\n"
          ]
        }
      ]
    },
    {
      "cell_type": "markdown",
      "source": [
        "# ミ💖 My Own Easy Questions For Practice ***💖彡***"
      ],
      "metadata": {
        "id": "MMW62zxF7cJV"
      }
    },
    {
      "cell_type": "markdown",
      "source": [
        "EXAMPLE NO. 1.1"
      ],
      "metadata": {
        "id": "xVcUkaK_YX-5"
      }
    },
    {
      "cell_type": "code",
      "source": [
        "Company_pays = 56100\n",
        "Developers = 9\n",
        "print(f\"Each developer earn : {Company_pays // Developers} dollars\")"
      ],
      "metadata": {
        "id": "lQhgVfv4rj6N",
        "colab": {
          "base_uri": "https://localhost:8080/"
        },
        "outputId": "34c9d320-8f88-4db8-e7f1-d8710bb817a0"
      },
      "execution_count": 11,
      "outputs": [
        {
          "output_type": "stream",
          "name": "stdout",
          "text": [
            "Each developer earn : 6233 dollars\n"
          ]
        }
      ]
    },
    {
      "cell_type": "markdown",
      "source": [
        "EXAMPLE NO. 1.2"
      ],
      "metadata": {
        "id": "sKT_lWnaYhwk"
      }
    },
    {
      "cell_type": "code",
      "source": [
        "Markus_bag = 3\n",
        "Markus_marbles = 18\n",
        "print(f\"Markus have in each bag : {Markus_marbles // Markus_bag} marbles\")\n"
      ],
      "metadata": {
        "colab": {
          "base_uri": "https://localhost:8080/"
        },
        "id": "fmK2h00m7DvJ",
        "outputId": "62dcd61b-7e2a-4cc3-c4b5-78942dc99fe9"
      },
      "execution_count": 10,
      "outputs": [
        {
          "output_type": "stream",
          "name": "stdout",
          "text": [
            "Markus have in each bag : 6 marbles\n"
          ]
        }
      ]
    },
    {
      "cell_type": "markdown",
      "source": [
        "EXAMPLE NO. 1.3"
      ],
      "metadata": {
        "id": "DbE6n773Y7ia"
      }
    },
    {
      "cell_type": "code",
      "source": [
        "Total_pages = 1890\n",
        "Chapters = 30\n",
        "print(f\"Each chapter have : {Total_pages // Chapters} pages\")"
      ],
      "metadata": {
        "colab": {
          "base_uri": "https://localhost:8080/"
        },
        "id": "rNDm96YY8ujJ",
        "outputId": "7fe482e7-4461-41e5-ea47-96c27b0e262d"
      },
      "execution_count": 9,
      "outputs": [
        {
          "output_type": "stream",
          "name": "stdout",
          "text": [
            "Each chapter have : 63 pages\n"
          ]
        }
      ]
    },
    {
      "cell_type": "markdown",
      "source": [
        "EXAMPLE NO. 2.1..........\n",
        "Question by My Self............. <3"
      ],
      "metadata": {
        "id": "yMiguTLNZPee"
      }
    },
    {
      "cell_type": "code",
      "source": [
        "Special_people = 20\n",
        "kids = 93\n",
        "absent = 50\n",
        "per_person_biryani = 240\n",
        "\n",
        "# find total number of people invited\n",
        "total_people = Special_people + kids\n",
        "print(f\"Total number of people : {total_people}\")\n",
        "\n",
        "# find total number present in a party\n",
        "print(f\"Total people present : {total_people - absent}\")\n",
        "\n",
        "#\n",
        "total_biryani_g = total_people * per_person_biryani\n",
        "print(f\"Total biryani in gram : {total_biryani_g}g\")\n",
        "\n",
        "total_biryani_kg = total_biryani_g // 1000\n",
        "print(f\"Total biryani in kg : {total_biryani_kg}kg\")\n",
        "\n"
      ],
      "metadata": {
        "colab": {
          "base_uri": "https://localhost:8080/"
        },
        "id": "JYkOHXoz99Ph",
        "outputId": "b2e70267-1d5d-48a1-c0a9-ddba45aaa145"
      },
      "execution_count": 18,
      "outputs": [
        {
          "output_type": "stream",
          "name": "stdout",
          "text": [
            "Total number of people : 113\n",
            "Total people present : 63\n",
            "Total biryani in gram : 27120g\n",
            "Total biryani in kg : 27kg\n"
          ]
        }
      ]
    },
    {
      "cell_type": "markdown",
      "source": [
        "EXAMPLE NO. 2.2........\n",
        "Question by My Self..............<3"
      ],
      "metadata": {
        "id": "yjx5iEJyZgIw"
      }
    },
    {
      "cell_type": "code",
      "source": [
        "faculty = 353\n",
        "special_guest = 94\n",
        "dancer = 100\n",
        "not_coming = 48\n",
        "per_person_kheer = 230\n",
        "per_person_rabri = 260\n",
        "\n",
        "total_people = faculty + special_guest + dancer\n",
        "print(f\"Total people : {total_people}\")\n",
        "\n",
        "total_present_people = total_people - not_coming\n",
        "print(f\"Total present people : {total_present_people}\")\n",
        "\n",
        "total_kheer_g = total_present_people * per_person_kheer\n",
        "print(f\"Total kheer in gram : {total_kheer_g}g\")\n",
        "\n",
        "print(f\"Total kheer in kg : {total_kheer_g // 1000}kg\")\n",
        "\n",
        "total_rabri_g = total_present_people * per_person_rabri\n",
        "print(f\"Total rabri in gram : {total_rabri_g}g\")\n",
        "\n",
        "print(f\"Total rabri in kg : {total_rabri_g // 1000}kg\")"
      ],
      "metadata": {
        "colab": {
          "base_uri": "https://localhost:8080/"
        },
        "id": "rjmQ_28CP-qF",
        "outputId": "2de2e921-9143-4749-f2b4-52ef9195042d"
      },
      "execution_count": 24,
      "outputs": [
        {
          "output_type": "stream",
          "name": "stdout",
          "text": [
            "Total people : 547\n",
            "Total present people : 499\n",
            "Total kheer in gram : 114770g\n",
            "Total kheer in kg : 114kg\n",
            "Total rabri in gram : 129740g\n",
            "Total rabri in kg : 129kg\n"
          ]
        }
      ]
    }
  ]
}