{
  "nbformat": 4,
  "nbformat_minor": 0,
  "metadata": {
    "colab": {
      "provenance": [],
      "authorship_tag": "ABX9TyO2V30GFiwUZzHzahxMEYn8",
      "include_colab_link": true
    },
    "kernelspec": {
      "name": "python3",
      "display_name": "Python 3"
    },
    "language_info": {
      "name": "python"
    }
  },
  "cells": [
    {
      "cell_type": "markdown",
      "metadata": {
        "id": "view-in-github",
        "colab_type": "text"
      },
      "source": [
        "<a href=\"https://colab.research.google.com/github/YOha-Ali/My-Projectsss/blob/main/My_Own.ipynb\" target=\"_parent\"><img src=\"https://colab.research.google.com/assets/colab-badge.svg\" alt=\"Open In Colab\"/></a>"
      ]
    },
    {
      "cell_type": "markdown",
      "source": [
        "# ミ💖 Assigment Of Online class. ***💖彡***"
      ],
      "metadata": {
        "id": "yLqIlKc2VDfS"
      }
    },
    {
      "cell_type": "code",
      "source": [
        "faculty = 12\n",
        "admin = 4\n",
        "students = 100\n",
        "absent = 15\n",
        "per_person_rabri = 250\n",
        "\n",
        "#                  12       4       100 = 116\n",
        "total_members = faculty + admin + students\n",
        "# print(f\"Total members in GH is {total_members}\")\n",
        "\n",
        "total_present_members = total_members - absent # = 101\n",
        "print(f\"Total present members: {total_present_members}\")\n",
        "\n",
        "total_rabri_g = total_present_members * per_person_rabri\n",
        "print(f\"Total rabri in grams: {total_rabri_g}g\")\n",
        "\n",
        "# total_rabri_in_gram = 25250\n",
        "print(f\"Total rabri in kg: {total_rabri_in_gram // 1000}kg\")\n",
        "\n",
        "print(f\"Total rabri in kg: {total_rabri_g // 1000}kg\")\n"
      ],
      "metadata": {
        "id": "mhf_4n9OVdwd",
        "collapsed": true
      },
      "execution_count": null,
      "outputs": []
    },
    {
      "cell_type": "markdown",
      "source": [
        "# ミ💖 My Own Easy Questions For Practice ***💖彡***"
      ],
      "metadata": {
        "id": "MMW62zxF7cJV"
      }
    },
    {
      "cell_type": "markdown",
      "source": [
        "EXAMPLE NO. 1.1"
      ],
      "metadata": {
        "id": "xVcUkaK_YX-5"
      }
    },
    {
      "cell_type": "code",
      "source": [
        "Company_pays = 56100\n",
        "Developers = 9\n",
        "print(f\"Each developer earn : {Company_pays // Developers} dollars\")"
      ],
      "metadata": {
        "id": "lQhgVfv4rj6N"
      },
      "execution_count": null,
      "outputs": []
    },
    {
      "cell_type": "markdown",
      "source": [
        "EXAMPLE NO. 1.2"
      ],
      "metadata": {
        "id": "sKT_lWnaYhwk"
      }
    },
    {
      "cell_type": "code",
      "source": [
        "Markus_bag = 3\n",
        "Markus_marbles = 18\n",
        "print(f\"Markus have in each bag : {Markus_marbles // Markus_bag} marbles\")\n"
      ],
      "metadata": {
        "id": "fmK2h00m7DvJ"
      },
      "execution_count": null,
      "outputs": []
    },
    {
      "cell_type": "markdown",
      "source": [
        "EXAMPLE NO. 1.3"
      ],
      "metadata": {
        "id": "DbE6n773Y7ia"
      }
    },
    {
      "cell_type": "code",
      "source": [
        "Total_pages = 1890\n",
        "Chapters = 30\n",
        "print(f\"Each chapter have : {Total_pages // Chapters} pages\")"
      ],
      "metadata": {
        "id": "rNDm96YY8ujJ"
      },
      "execution_count": null,
      "outputs": []
    },
    {
      "cell_type": "markdown",
      "source": [
        "EXAMPLE NO. 2.1..........\n",
        "Question by My Self............. <3"
      ],
      "metadata": {
        "id": "yMiguTLNZPee"
      }
    },
    {
      "cell_type": "code",
      "source": [
        "Special_people = 20\n",
        "kids = 93\n",
        "absent = 50\n",
        "per_person_biryani = 240\n",
        "\n",
        "# find total number of people invited\n",
        "total_people = Special_people + kids\n",
        "print(f\"Total number of people : {total_people}\")\n",
        "\n",
        "# find total number present in a party\n",
        "print(f\"Total people present : {total_people - absent}\")\n",
        "\n",
        "#\n",
        "total_biryani_g = total_people * per_person_biryani\n",
        "print(f\"Total biryani in gram : {total_biryani_g}g\")\n",
        "\n",
        "total_biryani_kg = total_biryani_g // 1000\n",
        "print(f\"Total biryani in kg : {total_biryani_kg}kg\")\n",
        "\n"
      ],
      "metadata": {
        "id": "JYkOHXoz99Ph"
      },
      "execution_count": null,
      "outputs": []
    },
    {
      "cell_type": "markdown",
      "source": [
        "EXAMPLE NO. 2.2........\n",
        "Question by My Self..............<3"
      ],
      "metadata": {
        "id": "yjx5iEJyZgIw"
      }
    },
    {
      "cell_type": "code",
      "source": [
        "faculty = 353\n",
        "special_guest = 94\n",
        "dancer = 100\n",
        "not_coming = 48\n",
        "per_person_kheer = 230\n",
        "per_person_rabri = 260\n",
        "\n",
        "total_people = faculty + special_guest + dancer\n",
        "print(f\"Total people : {total_people}\")\n",
        "\n",
        "total_present_people = total_people - not_coming\n",
        "print(f\"Total present people : {total_present_people}\")\n",
        "\n",
        "total_kheer_g = total_present_people * per_person_kheer\n",
        "print(f\"Total kheer in gram : {total_kheer_g}g\")\n",
        "\n",
        "print(f\"Total kheer in kg : {total_kheer_g // 1000}kg\")\n",
        "\n",
        "total_rabri_g = total_present_people * per_person_rabri\n",
        "print(f\"Total rabri in gram : {total_rabri_g}g\")\n",
        "\n",
        "print(f\"Total rabri in kg : {total_rabri_g // 1000}kg\")"
      ],
      "metadata": {
        "id": "rjmQ_28CP-qF"
      },
      "execution_count": null,
      "outputs": []
    }
  ]
}