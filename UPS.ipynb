{
  "nbformat": 4,
  "nbformat_minor": 0,
  "metadata": {
    "colab": {
      "provenance": [],
      "authorship_tag": "ABX9TyNPy8gCRjg1fCTwp/Zmss/w",
      "include_colab_link": true
    },
    "kernelspec": {
      "name": "python3",
      "display_name": "Python 3"
    },
    "language_info": {
      "name": "python"
    }
  },
  "cells": [
    {
      "cell_type": "markdown",
      "metadata": {
        "id": "view-in-github",
        "colab_type": "text"
      },
      "source": [
        "<a href=\"https://colab.research.google.com/github/YOha-Ali/Guess-the-number/blob/main/UPS.ipynb\" target=\"_parent\"><img src=\"https://colab.research.google.com/assets/colab-badge.svg\" alt=\"Open In Colab\"/></a>"
      ]
    },
    {
      "cell_type": "code",
      "execution_count": 1,
      "metadata": {
        "colab": {
          "base_uri": "https://localhost:8080/"
        },
        "id": "QzRFx41MkDWs",
        "outputId": "626b9c83-147c-4618-b966-b8887249f8df"
      },
      "outputs": [
        {
          "output_type": "stream",
          "name": "stdout",
          "text": [
            "Electricity suply is on ? Yes or No :no\n",
            "k_electric supply is off, On ups\n"
          ]
        }
      ],
      "source": [
        "\n",
        "k_electric = input (\"Electricity suply is on ? Yes or No :\")\n",
        "if k_electric == \"Yes\" or k_electric == \"yes\":\n",
        "    ups = \"no ups\"\n",
        "    print ( \"k_electric supply is on, Off ups\")\n",
        "if k_electric == \"No\" or k_electric == \"no\":\n",
        "    ups = \"ups is on\"\n",
        "    print ( \"k_electric supply is off, On ups\")\n"
      ]
    }
  ]
}